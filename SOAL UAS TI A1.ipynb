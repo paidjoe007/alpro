{
 "cells": [
  {
   "cell_type": "markdown",
   "id": "73b76dd4",
   "metadata": {},
   "source": [
    "### SOAL UAS DASAR ALGORITMA DAN PEMROGRAMAN TI A1 2022"
   ]
  },
  {
   "cell_type": "markdown",
   "id": "5aa2448c",
   "metadata": {},
   "source": [
    "1. Buat program dengan menampilkan sebuah string, misalkan `komputer` dan akan ditampilkan seperti pada gambar output **[POIN: 30]**\n",
    "\n",
    "![image](img/capture1.png)"
   ]
  },
  {
   "cell_type": "markdown",
   "id": "9864db54",
   "metadata": {},
   "source": [
    "2. Buat program dengan menampilkan sebuah perulangan piramida dengan menampilkan karakter emoji smile `\\U0001f600` , seperti output yang ditampilkan di bawah **[POIN: 40]**\n",
    "\n",
    "![image](img/capture2.png)"
   ]
  },
  {
   "cell_type": "markdown",
   "id": "e464b7c5",
   "metadata": {},
   "source": [
    "3. Buat program tampilan output berikut:**[POIN: 30]**\n",
    "\n",
    "![image](img/capture3.png)"
   ]
  },
  {
   "cell_type": "markdown",
   "id": "1c320daf",
   "metadata": {},
   "source": [
    "### Kirimkan jawaban uas anda berupa format (.ipynb) ke link https://forms.gle/neupMkwJzmv8TuYo6 paling lambat Rabu, 18 Januari 2023, pukul 16.00 WIB"
   ]
  }
 ],
 "metadata": {
  "kernelspec": {
   "display_name": "Python 3",
   "language": "python",
   "name": "python3"
  }
 },
 "nbformat": 4,
 "nbformat_minor": 5
}
