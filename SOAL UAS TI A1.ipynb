{
 "cells": [
  {
   "cell_type": "markdown",
   "id": "85a5f4f5",
   "metadata": {},
   "source": [
    "### SOAL UAS DASAR ALGORITMA DAN PEMROGRAMAN TI A1 2022"
   ]
  },
  {
   "cell_type": "markdown",
   "id": "3cc34a81",
   "metadata": {},
   "source": [
    "1. Buat program dengan menampilkan sebuah string, misalkan `komputer` dan akan ditampilkan seperti pada gambar output **[POIN: 30]**\n",
    "\n",
    "![image](img/capture1.jpg)"
   ]
  },
  {
   "cell_type": "markdown",
   "id": "24347096",
   "metadata": {},
   "source": [
    "2. Buat program dengan menampilkan sebuah perulangan piramida dengan menampilkan karakter emoji smile `\\U0001f600` , seperti output yang ditampilkan di bawah **[POIN: 40]**\n",
    "\n",
    "![image](img/capture2.jpg)"
   ]
  },
  {
   "cell_type": "markdown",
   "id": "95265a2e",
   "metadata": {},
   "source": [
    "3. Buat program tampilan output berikut:**[POIN: 30]**\n",
    "\n",
    "![image](img/capture3.jpg)"
   ]
  },
  {
   "cell_type": "markdown",
   "id": "a008f6d1",
   "metadata": {},
   "source": [
    "### Kirimkan jawaban uas anda berupa format (.ipynb) ke link https://forms.gle/neupMkwJzmv8TuYo6 paling lambat Rabu, 18 Januari 2023, pukul 16.00 WIB"
   ]
  }
 ],
 "metadata": {
  "kernelspec": {
   "display_name": "Python 3",
   "language": "python",
   "name": "python3"
  }
 },
 "nbformat": 4,
 "nbformat_minor": 5
}
