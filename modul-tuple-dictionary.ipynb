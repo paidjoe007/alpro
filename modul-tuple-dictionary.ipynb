{
 "cells": [
  {
   "cell_type": "markdown",
   "metadata": {},
   "source": [
    "# Praktikum - Tuple dan Dictionary\n",
    "## Tujuan & Manfaat\n",
    "Pada praktikum - Tuple dan Dictionary, mahasiswa diharapkan:\n",
    "   1. Mahasiswa mengerti syntax operator pada python\n",
    "   2. Mahasiswa dapat menjalankan program python menggunakan IDE, maupun di command prompt atau terminal\n",
    "   3. Mahasiswa mengerti konsep dari Tuple dan Dictionary, serta perbedaan antara keduanya\n",
    "   4. Mahasiswa dapat menerapkan dalam program"
   ]
  },
  {
   "cell_type": "markdown",
   "metadata": {},
   "source": [
    "## Tuple\n",
    "\n",
    "Sebuah tupel adalah urutan objek Python yang tidak berubah. Tupel adalah urutan, seperti daftar. Perbedaan utama antara tupel dan daftarnya adalah bahwa tupel tidak dapat diubah tidak seperti List Python. Tupel menggunakan tanda kurung, sedangkan List Python menggunakan tanda kurung siku.\n",
    "\n",
    "Membuat tuple semudah memasukkan nilai-nilai yang dipisahkan koma. Secara opsional, Anda dapat memasukkan nilai-nilai yang dipisahkan koma ini di antara tanda kurung juga. Sebagai contoh :"
   ]
  },
  {
   "cell_type": "code",
   "execution_count": 1,
   "metadata": {},
   "outputs": [
    {
     "name": "stdout",
     "output_type": "stream",
     "text": [
      "('sistem komputer', 'teknik informatika', 2008, 2017)\n",
      "(1, 2, 3, 4, 5)\n",
      "('a', 'b', 'c', 'd')\n"
     ]
    }
   ],
   "source": [
    "#Contoh sederhana pembuatan tuple pada bahasa pemrograman python\n",
    "\n",
    "tup1 = ('sistem komputer', 'teknik informatika', 2008, 2017)\n",
    "tup2 = (1, 2, 3, 4, 5 )\n",
    "tup3 = \"a\", \"b\", \"c\", \"d\"\n",
    "\n",
    "print(tup1)\n",
    "print(tup2)\n",
    "print(tup3)"
   ]
  },
  {
   "cell_type": "markdown",
   "metadata": {},
   "source": [
    "Tupel kosong ditulis sebagai dua tanda kurung yang tidak berisi apa-apa, contohnya : tup1 = ();\n",
    "Untuk menulis tupel yang berisi satu nilai, Anda harus memasukkan koma, meskipun hanya ada satu nilai, contohnya : tup1 = (50,)\n",
    "Seperti indeks String, indeks tuple mulai dari 0, dan mereka dapat diiris, digabungkan, dan seterusnya"
   ]
  },
  {
   "cell_type": "markdown",
   "metadata": {},
   "source": [
    "### Akses Nilai Dalam Tuple Python\n",
    "\n",
    "Untuk mengakses nilai dalam tupel, gunakan tanda kurung siku untuk mengiris beserta indeks atau indeks untuk mendapatkan nilai yang tersedia pada indeks tersebut. Sebagai contoh, dan setelah anda mengeksekusi kode tersebut, hasilnya akan seperti:"
   ]
  },
  {
   "cell_type": "code",
   "execution_count": 2,
   "metadata": {},
   "outputs": [
    {
     "name": "stdout",
     "output_type": "stream",
     "text": [
      "tup1[0]:  sistem komputer\n",
      "tup2[1:5]:  (2, 3, 4, 5)\n"
     ]
    }
   ],
   "source": [
    "#Cara mengakses nilai tuple\n",
    "\n",
    "tup1 = ('sistem komputer', 'teknik informatika', 2008, 2017)\n",
    "tup2 = (1, 2, 3, 4, 5, 6, 7 )\n",
    "\n",
    "print (\"tup1[0]: \", tup1[0])\n",
    "print (\"tup2[1:5]: \", tup2[1:5])"
   ]
  },
  {
   "cell_type": "markdown",
   "metadata": {},
   "source": [
    "### Update Nilai Dalam Tuple Python\n",
    "\n",
    "Tuple tidak berubah, yang berarti Anda tidak dapat memperbarui atau mengubah nilai elemen tupel. Anda dapat mengambil bagian dari tupel yang ada untuk membuat tupel baru seperti ditunjukkan oleh contoh berikut."
   ]
  },
  {
   "cell_type": "code",
   "execution_count": 3,
   "metadata": {},
   "outputs": [
    {
     "name": "stdout",
     "output_type": "stream",
     "text": [
      "(12, 34.56, 'abc', 'xyz')\n"
     ]
    }
   ],
   "source": [
    "tup1 = (12, 34.56)\n",
    "tup2 = ('abc', 'xyz')\n",
    "\n",
    "# Aksi seperti dibawah ini tidak bisa dilakukan pada tuple python\n",
    "# Karena memang nilai pada tuple python tidak bisa diubah\n",
    "# tup1[0] = 100;\n",
    "\n",
    "# Jadi, buatlah tuple baru sebagai berikut\n",
    "tup3 = tup1 + tup2\n",
    "print (tup3)"
   ]
  },
  {
   "cell_type": "markdown",
   "metadata": {},
   "source": [
    "### Hapus Nilai Dalam Tuple Python\n",
    "\n",
    "Menghapus elemen tuple individual tidak mungkin dilakukan. Tentu saja, tidak ada yang salah dengan menggabungkan tuple lain dengan unsur-unsur yang tidak diinginkan dibuang.\n",
    "\n",
    "Untuk secara eksplisit menghapus keseluruhan tuple, cukup gunakan del statement. Sebagai contoh"
   ]
  },
  {
   "cell_type": "code",
   "execution_count": 3,
   "metadata": {},
   "outputs": [],
   "source": [
    "tup4 = ('fisika', 'kimia', 1993, 2017)"
   ]
  },
  {
   "cell_type": "code",
   "execution_count": 4,
   "metadata": {},
   "outputs": [
    {
     "name": "stdout",
     "output_type": "stream",
     "text": [
      "('fisika', 'kimia', 1993, 2017)\n",
      "Setelah menghapus tuple : \n"
     ]
    },
    {
     "ename": "NameError",
     "evalue": "name 'tup4' is not defined",
     "output_type": "error",
     "traceback": [
      "\u001b[1;31m---------------------------------------------------------------------------\u001b[0m",
      "\u001b[1;31mNameError\u001b[0m                                 Traceback (most recent call last)",
      "\u001b[1;32m<ipython-input-4-42fdd776972e>\u001b[0m in \u001b[0;36m<module>\u001b[1;34m\u001b[0m\n\u001b[0;32m      2\u001b[0m \u001b[1;32mdel\u001b[0m \u001b[0mtup4\u001b[0m\u001b[1;33m\u001b[0m\u001b[1;33m\u001b[0m\u001b[0m\n\u001b[0;32m      3\u001b[0m \u001b[0mprint\u001b[0m\u001b[1;33m(\u001b[0m\u001b[1;34m\"Setelah menghapus tuple : \"\u001b[0m\u001b[1;33m)\u001b[0m\u001b[1;33m\u001b[0m\u001b[1;33m\u001b[0m\u001b[0m\n\u001b[1;32m----> 4\u001b[1;33m \u001b[0mprint\u001b[0m\u001b[1;33m(\u001b[0m\u001b[0mtup4\u001b[0m\u001b[1;33m)\u001b[0m\u001b[1;33m\u001b[0m\u001b[1;33m\u001b[0m\u001b[0m\n\u001b[0m",
      "\u001b[1;31mNameError\u001b[0m: name 'tup4' is not defined"
     ]
    }
   ],
   "source": [
    "print(tup4)\n",
    "del tup4\n",
    "print(\"Setelah menghapus tuple : \")\n",
    "print(tup4)"
   ]
  },
  {
   "cell_type": "markdown",
   "metadata": {},
   "source": [
    "### Operasi Dasar Pada Tuple Python\n",
    "\n",
    "Tupel merespons operator + dan * sama seperti String; Mereka berarti penggabungan dan pengulangan di sini juga berlaku, kecuali hasilnya adalah tupel baru, bukan string.\n",
    "\n",
    "Sebenarnya, Tuple merespons semua operasi urutan umum yang kami gunakan pada String di bab sebelumnya. Dibawah ini adalah tabel daftar operasi dasar pada Tuple python\n",
    "\n",
    "\n",
    "| Python Expression\t | Hasil | \tPenjelasan | \n",
    "| --- | --- | --- | \n",
    "| len((1, 2, 3)) | \t3 | \tLength | \n",
    "| (1, 2, 3) + (4, 5, 6) | \t(1, 2, 3, 4, 5, 6) | \tConcatenation | \n",
    "| ('Halo!',) * 4 | \t('Halo!', 'Halo!', 'Halo!', 'Halo!') | \tRepetition | \n",
    "| 3 in (1, 2, 3) | \tTrue | \tMembership | \n",
    "| for x in (1,2,3) : print (x, end = ' ') | \t1 2 3 | \tIteration | \n",
    "\n",
    "### Indexing, Slicing dan Matrix Pada Tuple Python\n",
    "\n",
    "Karena tupel adalah urutan, pengindeksan dan pengiris bekerja dengan cara yang sama untuk tupel seperti pada String, dengan asumsi masukan berikut\n",
    "\n",
    "Dengan asumsi input berikut : `T = ('C++', 'Java', 'Python')`\n",
    "\n",
    " | Python Expression | \tHasil | \tPenjelasan |\n",
    " | --- | --- | --- |\n",
    " | `T[2]` | \t`'Python'` | \tOffset mulai dari nol | \n",
    " | `T[-2]` | \t`'Java'`\t | Negatif: hitung dari kanan | \n",
    " | `T[1:]` | \t`('Java', 'Python')` | \tSlicing mengambil bagian | \n",
    "\n",
    "### Fungsi Build-in Pada Tuple Python\n",
    "\n",
    "Python menyertakan fungsi built-in sebagai berikut\n",
    "\n",
    "| Python Function |\tPenjelasan |\t\n",
    "| --- | --- |\n",
    "| `cmp(tuple1, tuple2)` |\t\t# Tidak lagi tersedia dengan Python 3 |\t\n",
    "| `len(tuple)` |\t\tMemberikan total panjang tuple. |\t\n",
    "| `max(tuple)` |\t\tMengembalikan item dari tuple dengan nilai maks. |\t\n",
    "| `min(tuple)` |\t\tMengembalikan item dari tuple dengan nilai min. |\t\n",
    "| `tuple(seq)` |\t\tMengubah tuple menjadi tuple. |\t\n"
   ]
  },
  {
   "cell_type": "code",
   "execution_count": 5,
   "metadata": {},
   "outputs": [
    {
     "name": "stdout",
     "output_type": "stream",
     "text": [
      "program 1\n",
      "('tuple', False, 3.2, 1)\n",
      "program 2\n",
      "(5, 10, 15, 20, 25)\n",
      "(5,)\n",
      "program 3\n",
      "(4, 6, 2, 8, 3, 1)\n",
      "(4, 6, 2, 8, 3, 1, 9)\n",
      "(4, 6, 2, 8, 3, 15, 20, 25, 4, 6, 2, 8, 3)\n",
      "(4, 6, 2, 8, 3, 15, 20, 25, 4, 6, 2, 8, 3, 30)\n",
      "program 4\n",
      "(4, 6, 2, 8, 3, 1)\n",
      "(4, 6, 2, 8, 3, 1, 9)\n",
      "(4, 6, 2, 8, 3, 15, 20, 25, 4, 6, 2, 8, 3)\n",
      "(4, 6, 2, 8, 3, 15, 20, 25, 4, 6, 2, 8, 3, 30)\n"
     ]
    }
   ],
   "source": [
    "#contoh penggunaan tuple\n",
    "#program 1\n",
    "#Create a tuple with different data types\n",
    "print(\"program 1\")\n",
    "tuplex = (\"tuple\", False, 3.2, 1)\n",
    "print(tuplex)\n",
    "\n",
    "#program 2\n",
    "print(\"program 2\")\n",
    "#Create a tuple with numbers\n",
    "tuplex = 5, 10, 15, 20, 25\n",
    "print(tuplex)\n",
    "#Create a tuple of one item\n",
    "tuplex = 5,\n",
    "print(tuplex)\n",
    "\n",
    "print(\"program 3\")\n",
    "#program 3\n",
    "#create a tuple\n",
    "tuplex = (4, 6, 2, 8, 3, 1) \n",
    "print(tuplex)\n",
    "#tuples are immutable, so you can not add new elements\n",
    "#using merge of tuples with the + operator you can add an element and it will create a new tuple\n",
    "tuplex = tuplex + (9,)\n",
    "print(tuplex)\n",
    "#adding items in a specific index\n",
    "tuplex = tuplex[:5] + (15, 20, 25) + tuplex[:5]\n",
    "print(tuplex)\n",
    "#converting the tuple to list\n",
    "listx = list(tuplex) \n",
    "#use different ways to add items in list\n",
    "listx.append(30)\n",
    "tuplex = tuple(listx)\n",
    "print(tuplex)\n",
    "\n",
    "print(\"program 4\")\n",
    "#program 4\n",
    "#create a tuple\n",
    "tuplex = (4, 6, 2, 8, 3, 1) \n",
    "print(tuplex)\n",
    "#tuples are immutable, so you can not add new elements\n",
    "#using merge of tuples with the + operator you can add an element and it will create a new tuple\n",
    "tuplex = tuplex + (9,)\n",
    "print(tuplex)\n",
    "#adding items in a specific index\n",
    "tuplex = tuplex[:5] + (15, 20, 25) + tuplex[:5]\n",
    "print(tuplex)\n",
    "#converting the tuple to list\n",
    "listx = list(tuplex) \n",
    "#use different ways to add items in list\n",
    "listx.append(30)\n",
    "tuplex = tuple(listx)\n",
    "print(tuplex)"
   ]
  },
  {
   "cell_type": "markdown",
   "metadata": {},
   "source": [
    "## Dictionary\n",
    "\n",
    "Dictionary Python berbeda dengan List ataupun Tuple. Karena setiap urutanya berisi key dan value. Setiap key dipisahkan dari value-nya oleh titik dua (:), item dipisahkan oleh koma, dan semuanya tertutup dalam kurung kurawal. Dictionary kosong tanpa barang ditulis hanya dengan dua kurung kurawal, seperti ini: {}.\n",
    "\n",
    "Nilai kamus bisa berupa tipe apa pun, namun key harus berupa tipe data yang tidak berubah seperti string, angka, atau tupel.\n",
    "\n",
    "### Akses Nilai Dalam Dictionary Python\n",
    "\n",
    "Untuk mengakses elemen Dictionary, Anda dapat menggunakan tanda kurung siku yang sudah dikenal bersama dengan key untuk mendapatkan nilainya. Berikut adalah contoh sederhananya :"
   ]
  },
  {
   "cell_type": "code",
   "execution_count": 6,
   "metadata": {},
   "outputs": [
    {
     "name": "stdout",
     "output_type": "stream",
     "text": [
      "dict['Name']:  Luffy\n",
      "dict['Age']:  7\n"
     ]
    }
   ],
   "source": [
    "#Contoh cara membuat Dictionary pada Python\n",
    "\n",
    "dict = {'Name': 'Luffy', 'Age': 7, 'Class': 'First'}\n",
    "print (\"dict['Name']: \", dict['Name'])\n",
    "print (\"dict['Age']: \", dict['Age'])"
   ]
  },
  {
   "cell_type": "markdown",
   "metadata": {},
   "source": [
    "### Update Nilai Dalam Dictionary Python\n",
    "\n",
    "Anda dapat memperbarui Dictionary dengan menambahkan entri baru atau pasangan nilai kunci, memodifikasi entri yang ada, atau menghapus entri yang ada seperti ditunjukkan pada contoh sederhana yang diberikan di bawah ini."
   ]
  },
  {
   "cell_type": "code",
   "execution_count": 7,
   "metadata": {},
   "outputs": [
    {
     "name": "stdout",
     "output_type": "stream",
     "text": [
      "dict['Age']:  8\n",
      "dict['School']:  Marijoa School\n"
     ]
    }
   ],
   "source": [
    "#Update dictionary python\n",
    "\n",
    "dict = {'Name': 'Luffy', 'Age': 7, 'Class': 'First'}\n",
    "dict['Age'] = 8; # Mengubah entri yang sudah ada\n",
    "dict['School'] = \"Marijoa School\" # Menambah entri baru\n",
    "\n",
    "print (\"dict['Age']: \", dict['Age'])\n",
    "print (\"dict['School']: \", dict['School'])"
   ]
  },
  {
   "cell_type": "markdown",
   "metadata": {},
   "source": [
    "### Hapus Elemen Dictionary Python\n",
    "\n",
    "Anda dapat menghapus elemen Dictionary individual atau menghapus keseluruhan isi Dictionary. Anda juga dapat menghapus seluruh Dictionary dalam satu operasi.\n",
    "\n",
    "Untuk menghapus seluruh Dictionary secara eksplisit, cukup gunakan del statement. Berikut adalah contoh sederhana :"
   ]
  },
  {
   "cell_type": "code",
   "execution_count": 8,
   "metadata": {},
   "outputs": [
    {
     "ename": "TypeError",
     "evalue": "'type' object is not subscriptable",
     "output_type": "error",
     "traceback": [
      "\u001b[0;31m---------------------------------------------------------------------------\u001b[0m",
      "\u001b[0;31mTypeError\u001b[0m                                 Traceback (most recent call last)",
      "\u001b[0;32m<ipython-input-8-5010037b5ae2>\u001b[0m in \u001b[0;36m<module>\u001b[0;34m\u001b[0m\n\u001b[1;32m      7\u001b[0m \u001b[0;32mdel\u001b[0m \u001b[0mdict\u001b[0m         \u001b[0;31m# hapus dictionary yang sudah ada\u001b[0m\u001b[0;34m\u001b[0m\u001b[0;34m\u001b[0m\u001b[0m\n\u001b[1;32m      8\u001b[0m \u001b[0;34m\u001b[0m\u001b[0m\n\u001b[0;32m----> 9\u001b[0;31m \u001b[0mprint\u001b[0m \u001b[0;34m(\u001b[0m\u001b[0;34m\"dict['Age']: \"\u001b[0m\u001b[0;34m,\u001b[0m \u001b[0mdict\u001b[0m\u001b[0;34m[\u001b[0m\u001b[0;34m'Age'\u001b[0m\u001b[0;34m]\u001b[0m\u001b[0;34m)\u001b[0m\u001b[0;34m\u001b[0m\u001b[0;34m\u001b[0m\u001b[0m\n\u001b[0m\u001b[1;32m     10\u001b[0m \u001b[0mprint\u001b[0m \u001b[0;34m(\u001b[0m\u001b[0;34m\"dict['School']: \"\u001b[0m\u001b[0;34m,\u001b[0m \u001b[0mdict\u001b[0m\u001b[0;34m[\u001b[0m\u001b[0;34m'School'\u001b[0m\u001b[0;34m]\u001b[0m\u001b[0;34m)\u001b[0m\u001b[0;34m\u001b[0m\u001b[0;34m\u001b[0m\u001b[0m\n",
      "\u001b[0;31mTypeError\u001b[0m: 'type' object is not subscriptable"
     ]
    }
   ],
   "source": [
    "#Contoh cara menghapus pada Dictionary Python\n",
    "\n",
    "dict = {'Name': 'Zara', 'Age': 7, 'Class': 'First'}\n",
    "\n",
    "del dict['Name'] # hapus entri dengan key 'Name'\n",
    "dict.clear()     # hapus semua entri di dict\n",
    "del dict         # hapus dictionary yang sudah ada\n",
    "\n",
    "print (\"dict['Age']: \", dict['Age'])\n",
    "print (\"dict['School']: \", dict['School'])"
   ]
  },
  {
   "cell_type": "markdown",
   "metadata": {},
   "source": [
    "### Fungsi Build-in Pada Dictionary Python\n",
    "\n",
    "Python menyertakan fungsi built-in sebagai berikut :\n",
    "\n",
    "| Fungsi Python | \tPenjelasan | \n",
    "| --- | --- |\n",
    "| cmp(dict1, dict2)\t | Membandingkan unsur keduanya. | \n",
    "| len(dict)\t | Memberikan panjang total Dictionary. Ini sama dengan jumlah item dalam Dictionary. | \n",
    "| str(dict) | \tMenghasilkan representasi string yang dapat dicetak dari Dictionary | \n",
    "| type(variable)\t | Mengembalikan tipe variabel yang lulus. Jika variabel yang dilewatkan adalah Dictionary, maka akan mengembalikan tipe Dictionary. | \n",
    "\n",
    "\n",
    "### Method Build-in Pada Dictionary Python\n",
    "\n",
    "Python menyertakan method built-in sebagai berikut :\n",
    "\n",
    " | Method Python | \tPenjelasan | \n",
    " | --- | --- |\n",
    " | dict.clear() | \tMenghapus semua elemen Dictionary | \n",
    " | dict.copy()\t | Mengembalikan salinan Dictionary | \n",
    " | dict.fromkeys() | \tBuat Dictionary baru dengan kunci dari seq dan nilai yang disetel ke nilai. | \n",
    " | dict.get(key, default=None)\t | For key, nilai pengembalian atau default jika tombol tidak ada dalam Dictionary | \n",
    " | dict.has_key(key) | \tMengembalikan true jika key dalam Dictionary, false sebaliknya | \n",
    " | dict.items() | \tMengembalikan daftar dari pasangan tuple dictionary (key, value) | \n",
    " | dict.keys()\t | Mengembalikan daftar key dictionary | \n",
    " | dict.setdefault(key, default=None) | \tMirip dengan get (), tapi akan mengatur dict [key] = default jika kunci belum ada di dict |\n",
    " | dict.update(dict2) | \tMenambahkan pasangan kunci kata kunci dict2 ke dict | \n",
    " | dict.values() | \tMengembalikan daftar nilai dictionary | \n"
   ]
  },
  {
   "cell_type": "code",
   "execution_count": 9,
   "metadata": {},
   "outputs": [
    {
     "name": "stdout",
     "output_type": "stream",
     "text": [
      "\n",
      "contoh 1\n",
      "{1: 10, 2: 20, 3: 30, 4: 40, 5: 50, 6: 60}\n",
      "\n",
      "contoh 2\n",
      "3  tersedia dalam dictionary\n",
      "\n",
      "contoh 3\n",
      "{'a': 100, 'b': 200, 'x': 300, 'y': 200}\n"
     ]
    }
   ],
   "source": [
    "#contoh penggunaan dictionary\n",
    "\n",
    "print(\"\\ncontoh 1\")\n",
    "dic1={1:10, 2:20}\n",
    "dic2={3:30, 4:40}\n",
    "dic3={5:50,6:60}\n",
    "dic4 = {}\n",
    "for d in (dic1, dic2, dic3): dic4.update(d)\n",
    "print(dic4)\n",
    "\n",
    "print(\"\\ncontoh 2\")\n",
    "d = {1: 10, 2: 20, 3: 30, 4: 40, 5: 50, 6: 60}\n",
    "cek_angka = 3\n",
    "if cek_angka in d:\n",
    "    print(cek_angka,' tersedia dalam dictionary')\n",
    "else:\n",
    "    print(cek_angkat,'tidak tersedia dalam dictionary')\n",
    "\n",
    "print(\"\\ncontoh 3\")\n",
    "d1 = {'a': 100, 'b': 200}\n",
    "d2 = {'x': 300, 'y': 200}\n",
    "d = d1.copy()\n",
    "d.update(d2)\n",
    "print(d)"
   ]
  },
  {
   "cell_type": "markdown",
   "metadata": {},
   "source": [
    "## Latihan\n",
    "**Catatan:** gunakan **python versi 3.x** atau di atas nya\n",
    "1. Jalankan program di atas di komputer anda, menggunakan pycharm, jupyter-notebook, jupyter-lab atau google colab\n",
    "2. Buatlah program menggunakan list, dan materi sebelumnya dengan skenario sebagai berikut:\n",
    "\n",
    "    a. Program yang menampilkan isi dari sebuah tuple kemudian mengkonversikan ke format string, untuk keluarannya dapat di lihat pada gambar di bawah:a\n",
    "    ![modul-8](img/9a.png)\n",
    "    \n",
    "    b. Program yang menampilkan penjumlahkan bilangan yang ada pada dictionary, untuk keluarannya dapat di lihat pada gambar di bawah:\n",
    "    ![modul-8](img/9b.png)\n",
    "    "
   ]
  },
  {
   "cell_type": "markdown",
   "metadata": {},
   "source": [
    "### Tugas Praktikum\n",
    "1. Upload file  praktikum kalian ke google form dengan format nama file **nim_nama_kelas.ipynb** -> ke link : https://forms.gle/AGDT8VsLybje73JH8\n"
   ]
  }
 ],
 "metadata": {
  "kernelspec": {
   "display_name": "Python 3",
   "language": "python",
   "name": "python3"
  },
  "language_info": {
   "codemirror_mode": {
    "name": "ipython",
    "version": 3
   },
   "file_extension": ".py",
   "mimetype": "text/x-python",
   "name": "python",
   "nbconvert_exporter": "python",
   "pygments_lexer": "ipython3",
   "version": "3.8.8"
  }
 },
 "nbformat": 4,
 "nbformat_minor": 2
}
