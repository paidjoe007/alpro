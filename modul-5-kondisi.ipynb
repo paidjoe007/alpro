{
 "cells": [
  {
   "cell_type": "markdown",
   "metadata": {},
   "source": [
    "# Praktikum 5 - Penerapan Kondisi (Pengkondisian)\n",
    "## Tujuan & Manfaat\n",
    "Pada praktikum 5 - Kondisi, mahasiswa diharapkan:\n",
    "   1. Mahasiswa mengerti syntax operator pada python\n",
    "   2. Mahasiswa dapat menjalankan program python menggunakan IDE, maupun di command prompt atau terminal\n",
    "   3. Mahasiswa mengerti konsep setiap pengkondisian, seperti if..else..elif\n",
    "   4. Mahasiswa dapat menerapkan dalam program"
   ]
  },
  {
   "cell_type": "markdown",
   "metadata": {},
   "source": [
    "### Kondisi If\n",
    "\n",
    "Pengambilan keputusan (kondisi if) digunakan untuk mengantisipasi kondisi yang terjadi saat jalanya program dan menentukan tindakan apa yang akan diambil sesuai dengan kondisi.\n",
    "\n",
    "Pada python ada beberapa statement/kondisi diantaranya adalah `if`, `else` dan `elif` Kondisi `if` digunakan untuk mengeksekusi kode jika kondisi bernilai benar `True`.\n",
    "\n",
    "Jika kondisi bernilai salah `False` maka statement/kondisi `if` tidak akan di-eksekusi.\n",
    "\n",
    "Dibawah ini adalah contoh penggunaan kondisi if pada Python"
   ]
  },
  {
   "cell_type": "code",
   "execution_count": 1,
   "metadata": {},
   "outputs": [
    {
     "name": "stdout",
     "output_type": "stream",
     "text": [
      "Selamat Anda Lulus\n"
     ]
    }
   ],
   "source": [
    "#Kondisi if adalah kondisi yang akan dieksekusi oleh program jika bernilai benar atau TRUE\n",
    "\n",
    "nilai = 9\n",
    "\n",
    "#jika kondisi benar/TRUE maka program akan mengeksekusi perintah dibawahnya\n",
    "if(nilai > 7):\n",
    "    print(\"Selamat Anda Lulus\")\n",
    "\n",
    "#jika kondisi salah/FALSE maka program tidak akan mengeksekusi perintah dibawahnya\n",
    "if(nilai > 10):\n",
    "    print(\"Selamat Anda Lulus\")"
   ]
  },
  {
   "cell_type": "markdown",
   "metadata": {},
   "source": [
    "Dari contoh diatas, jika program dijalankan maka akan mencetak string `\"Selamat Anda Lulus Ujian\"` sebanyak 1 kali yaitu pada if pertama. Di if kedua statement bernilai salah, jadi perintah `print(\"Selamat Anda Lulus\")` tidak akan dieksekusi."
   ]
  },
  {
   "cell_type": "markdown",
   "metadata": {},
   "source": [
    "### Kondisi If Else\n",
    "Pengambilan keputusan (kondisi if else) tidak hanya digunakan untuk menentukan tindakan apa yang akan diambil sesuai dengan kondisi, tetapi juga digunakan untuk menentukan tindakan apa yang akan diambil/dijalankan jika kondisi tidak sesuai.\n",
    "\n",
    "Pada python ada beberapa statement/kondisi diantaranya adalah if, else dan elif Kondisi if digunakan untuk mengeksekusi kode jika kondisi bernilai benar.\n",
    "\n",
    "Kondisi if else adalah kondisi dimana jika pernyataan benar `True` maka kode dalam if akan dieksekusi, tetapi jika bernilai salah `False` maka akan mengeksekusi kode di dalam else.\n",
    "\n",
    "Dibawah ini adalah contoh penggunaan kondisi if else pada Python"
   ]
  },
  {
   "cell_type": "code",
   "execution_count": 2,
   "metadata": {},
   "outputs": [
    {
     "name": "stdout",
     "output_type": "stream",
     "text": [
      "Maaf Anda Tidak Lulus\n"
     ]
    }
   ],
   "source": [
    "#Kondisi if else adalah jika kondisi bernilai TRUE maka akan dieksekusi pada if, tetapi jika bernilai FALSE maka akan dieksekusi kode pada else\n",
    "\n",
    "nilai = 3\n",
    "#Jika pernyataan pada if bernilai TRUE maka if akan dieksekusi, tetapi jika FALSE kode pada else yang akan dieksekusi.\n",
    "if(nilai > 7):\n",
    "    print(\"Selamat Anda Lulus\")\n",
    "else:\n",
    "    print(\"Maaf Anda Tidak Lulus\")"
   ]
  },
  {
   "cell_type": "markdown",
   "metadata": {},
   "source": [
    "Pada contoh diatas, jika program dijalankan maka akan mencetak string `\"Maaf Anda Tidak Lulus\"` karena pernyataan pada if bernilai `False`"
   ]
  },
  {
   "cell_type": "markdown",
   "metadata": {},
   "source": [
    "### Kondisi Elif\n",
    "\n",
    "Pengambilan keputusan (kondisi if elif) merupakan lanjutan/percabangan logika dari \"kondisi if\". Dengan elif kita bisa membuat kode program yang akan menyeleksi beberapa kemungkinan yang bisa terjadi. Hampir sama dengan kondisi \"else\", bedanya kondisi \"elif\" bisa banyak dan tidak hanya satu. \n",
    "\n",
    "Dibawah ini adalah contoh penggunaan kondisi elif pada Python"
   ]
  },
  {
   "cell_type": "code",
   "execution_count": 3,
   "metadata": {},
   "outputs": [
    {
     "name": "stdout",
     "output_type": "stream",
     "text": [
      "Saya akan libur\n"
     ]
    }
   ],
   "source": [
    "#Contoh penggunaan kondisi elif\n",
    "\n",
    "hari_ini = \"Minggu\"\n",
    "\n",
    "if(hari_ini == \"Senin\"):\n",
    "    print(\"Saya akan kuliah\")\n",
    "elif(hari_ini == \"Selasa\"):\n",
    "    print(\"Saya akan kuliah\")\n",
    "elif(hari_ini == \"Rabu\"):\n",
    "    print(\"Saya akan kuliah\")\n",
    "elif(hari_ini == \"Kamis\"):\n",
    "    print(\"Saya akan kuliah\")\n",
    "elif(hari_ini == \"Jumat\"):\n",
    "    print(\"Saya akan kuliah\")\n",
    "elif(hari_ini == \"Sabtu\"):\n",
    "    print(\"Saya akan kuliah\")\n",
    "elif(hari_ini == \"Minggu\"):\n",
    "    print(\"Saya akan libur\")"
   ]
  },
  {
   "cell_type": "markdown",
   "metadata": {},
   "source": [
    "Pada contoh diatas, jika program dijalankan maka akan mencetak string `\"Saya akan libur\"`."
   ]
  },
  {
   "cell_type": "markdown",
   "metadata": {},
   "source": [
    "## Latihan\n",
    "**Catatan:** gunakan **python versi 3.x** atau di atas nya\n",
    "1. Jalankan program di atas di komputer anda, menggunakan pycharm, jupyter-notebook, jupyter-lab atau google colab\n",
    "2. Buatlah program \n",
    "menggunakan pengkondisian (if..else..elif) dengan skenario sebagai berikut:\n",
    "    \n",
    "    a. **Program 1**; Program python untuk melakukan pengecekan apakah segitiga tersebut merupakan `segitiga sama sisi (Equilateral Triangle)`, atau `segitiga sembarang (scalene triangle)`\n",
    "    ![jenis-segitiga](img/segitiga.png)\n",
    "    \n",
    "    Buatlah dengan output program seperti gambar di bawah:\n",
    "    - Jika nilai masukkan terdiri dari x, y dan z memiliki nilai sama, maka akan diputuskan bahwa adalah segitiga sama sisi\n",
    "    ![segitiga-samasisi](img/segitiga-1.png)\n",
    "    - Jika nilai masukkan terdiri dari x, y dan z memiliki nilai yang tidak sama, maka akan diputuskan bahwa adalah segitiga sembarang\n",
    "    ![segitiga-sembarang](img/segitiga-3.png)\n",
    "    \n",
    "      b. **Program 2**; Program python untuk melakukan pengecekan apakah tahun yang kita inisialisasikan merupakan tahun kabisat atau tidak. berikut output program pengecekan tahun kabisat (tahun 2019,2020)\n",
    "    ![tahun-kabisat](img/tahun-kabisat.png)\n",
    "    ![tahun-kabisat](img/tahun-kabisat-2.png)\n",
    "    \n",
    "      c. **Program 3**; Program python untuk mendeteksi zodiak/astrologi yunani dari tanggal dan bulan lahir anda.\n",
    "    ![zodiak](img/zodiak-1.png)\n",
    "    ![zodiak](img/zodiak-2.png)\n",
    "    ![zodiak](img/zodiak-3.png)\n",
    "    \n",
    "      d. **Program 4**; Program python untuk mendeteksi zodiak/astrologi cina dari tahun lahir anda.\n",
    "    ![zodiak-cina](img/zodiak-cina.png)\n",
    "    ![zodiak-cina](img/zodiak-cina-2.png)"
   ]
  }
 ],
 "metadata": {
  "kernelspec": {
   "display_name": "Python 3",
   "language": "python",
   "name": "python3"
  },
  "language_info": {
   "codemirror_mode": {
    "name": "ipython",
    "version": 3
   },
   "file_extension": ".py",
   "mimetype": "text/x-python",
   "name": "python",
   "nbconvert_exporter": "python",
   "pygments_lexer": "ipython3",
   "version": "3.8.8"
  }
 },
 "nbformat": 4,
 "nbformat_minor": 2
}
