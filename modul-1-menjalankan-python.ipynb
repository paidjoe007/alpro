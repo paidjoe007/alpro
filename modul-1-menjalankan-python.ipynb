{
 "cells": [
  {
   "cell_type": "markdown",
   "metadata": {},
   "source": [
    "# Praktikum 1 - Syntax dasar pada Python\n",
    "## Pendahuluan\n",
    "Algoritma adalah urutan aksi-aksi yang dinyatakan dengan jelas dan tidak rancu untuk memecahkan suatu masalah dalam rentang waktu tertentu. Setiap aksi harus dapat dikerjakan\n",
    "dan mempunyai efek tertentu.\n",
    "\n",
    "Algoritma dapat dituliskan dengan banyak cara, mulai dari menggunakan bahasa alami yang digunakan sehari-hari, simbol grafik bagan alir, sampai menggunakan bahasa pemograman seperti bahasa Python\n",
    "\n",
    "Setiap mempelajari, bahasa pemrograman pada umumnya melakukan testing terlebih dahulu para IDE, compiler pada komputer kita.\n",
    "\n",
    "## Tujuan & Manfaat\n",
    "Pada praktikum 1 - Syntax dasar, mahasiswa diharapkan:\n",
    "   1. Mahasiswa mengerti syntax dasar pada python\n",
    "   2. Mahasiswa dapat menjalankan program python menggunakan IDE, maupun di command prompt atau terminal\n",
    "\n",
    "## Syntax dasar\n",
    "```print()``` merupakan salah satu fungsi dari python untuk mencetak, dengan meletakkan kurung buka dan kurung tutup, untuk di Python versi 2.x tidak perlu menggunakan kurung buka dan tutup atau kurung kurawal (), cukup dipisahkan dengan spasi.\n",
    "\n",
    "Python 3.x, memiliki perbedaan dengan python 2.x dalam mencetakan tipe data string secara langsung, dengan memasukkan ke dalam kutip atau tanda petik terlebih dahulu."
   ]
  },
  {
   "cell_type": "code",
   "execution_count": 1,
   "metadata": {},
   "outputs": [
    {
     "name": "stdout",
     "output_type": "stream",
     "text": [
      "Hello World\n",
      "Hello World\n"
     ]
    }
   ],
   "source": [
    "#script ini dijalankan menggunakan jupyter-lab, jupyter-notebook\n",
    "print(\"Hello World\") #menggunakan tanda petik dua\n",
    "print('Hello World') #menggunakan tanda petik tunggal"
   ]
  },
  {
   "cell_type": "markdown",
   "metadata": {},
   "source": [
    "diatas menggunakan tanda ```\"\"``` (dibaca: tanda petik dua) atau ```''``` (dibaca: tanda petik tunggal), diikuti dengan string ataupun variable, dari script yang dijalankan dapat dilihat output berupa text ```Hello World```\n",
    "\n",
    "## Python script\n",
    "untuk menjalan program script python, anda membutuhkan text-editor seperti notepad, visual code studio (free), notepad++, sublimetext, pycharm seperti langkah - langkah berikut:\n",
    "1. Buatlah sebuah file hello.py\n",
    "2. Kemudian bukalah program tersebut menggunakan text-editor yang terinstall di komputer anda, dan tuliskan script berikut\n",
    "\n",
    "    ```print(\"Hello World\")```\n",
    "\n",
    "3. Jalankan dengan membuka command prompt atau terminal dan mengetikan perintah untuk linux:\n",
    "\n",
    "    ```python3 hello.py```\n",
    "    \n",
    "    atau\n",
    "    \n",
    "    ```pyhon3 lokasi\\scriptanda\\hello.py```\n",
    "\n",
    "4. untuk windows jalankan command prompt dan mengetikkan perintah berikut:\n",
    "    \n",
    "    ```pyhon3 lokasi\\scriptanda\\hello.py```\n",
    "\n",
    "\n",
    "## Case Sensitivity\n",
    "bahasa pemrograman python bersifat case sensitive, yang artinya huruf besar dan huruf kecil memiliki perbedaan. sebagai contoh seperti pada contoh program di atas,menggunakan ```print()``` akan langsung menampilkan output nya, selanjutnya jika menggunakan ```Print()```, ```PRINT()```,```PrInT()``` atau fungsi tidak lengkap seperti ```prnt()```akan muncul pesan error seperti eksekusi program dibawah"
   ]
  },
  {
   "cell_type": "code",
   "execution_count": 2,
   "metadata": {},
   "outputs": [
    {
     "ename": "NameError",
     "evalue": "name 'Print' is not defined",
     "output_type": "error",
     "traceback": [
      "\u001b[0;31m---------------------------------------------------------------------------\u001b[0m",
      "\u001b[0;31mNameError\u001b[0m                                 Traceback (most recent call last)",
      "\u001b[0;32m<ipython-input-2-b3a0a03b710d>\u001b[0m in \u001b[0;36m<module>\u001b[0;34m()\u001b[0m\n\u001b[0;32m----> 1\u001b[0;31m \u001b[0mPrint\u001b[0m\u001b[0;34m(\u001b[0m\u001b[0;34m\"Hello World\"\u001b[0m\u001b[0;34m)\u001b[0m \u001b[0;31m#menggunakan Print()\u001b[0m\u001b[0;34m\u001b[0m\u001b[0m\n\u001b[0m",
      "\u001b[0;31mNameError\u001b[0m: name 'Print' is not defined"
     ]
    }
   ],
   "source": [
    "Print(\"Hello World\") #menggunakan Print()"
   ]
  },
  {
   "cell_type": "code",
   "execution_count": 3,
   "metadata": {},
   "outputs": [
    {
     "ename": "NameError",
     "evalue": "name 'PRINT' is not defined",
     "output_type": "error",
     "traceback": [
      "\u001b[0;31m---------------------------------------------------------------------------\u001b[0m",
      "\u001b[0;31mNameError\u001b[0m                                 Traceback (most recent call last)",
      "\u001b[0;32m<ipython-input-3-2c0cbdcb3ade>\u001b[0m in \u001b[0;36m<module>\u001b[0;34m()\u001b[0m\n\u001b[0;32m----> 1\u001b[0;31m \u001b[0mPRINT\u001b[0m\u001b[0;34m(\u001b[0m\u001b[0;34m\"Hello World\"\u001b[0m\u001b[0;34m)\u001b[0m \u001b[0;31m#menggunakan PRINT()\u001b[0m\u001b[0;34m\u001b[0m\u001b[0m\n\u001b[0m",
      "\u001b[0;31mNameError\u001b[0m: name 'PRINT' is not defined"
     ]
    }
   ],
   "source": [
    "PRINT(\"Hello World\") #menggunakan PRINT()"
   ]
  },
  {
   "cell_type": "code",
   "execution_count": 4,
   "metadata": {},
   "outputs": [
    {
     "ename": "NameError",
     "evalue": "name 'PrInT' is not defined",
     "output_type": "error",
     "traceback": [
      "\u001b[0;31m---------------------------------------------------------------------------\u001b[0m",
      "\u001b[0;31mNameError\u001b[0m                                 Traceback (most recent call last)",
      "\u001b[0;32m<ipython-input-4-347c168c7cd7>\u001b[0m in \u001b[0;36m<module>\u001b[0;34m()\u001b[0m\n\u001b[0;32m----> 1\u001b[0;31m \u001b[0mPrInT\u001b[0m\u001b[0;34m(\u001b[0m\u001b[0;34m\"Hello World\"\u001b[0m\u001b[0;34m)\u001b[0m \u001b[0;31m#menggunakan PrInT()\u001b[0m\u001b[0;34m\u001b[0m\u001b[0m\n\u001b[0m",
      "\u001b[0;31mNameError\u001b[0m: name 'PrInT' is not defined"
     ]
    }
   ],
   "source": [
    "PrInT(\"Hello World\") #menggunakan PrInT()"
   ]
  },
  {
   "cell_type": "code",
   "execution_count": 5,
   "metadata": {},
   "outputs": [
    {
     "ename": "NameError",
     "evalue": "name 'prnt' is not defined",
     "output_type": "error",
     "traceback": [
      "\u001b[0;31m---------------------------------------------------------------------------\u001b[0m",
      "\u001b[0;31mNameError\u001b[0m                                 Traceback (most recent call last)",
      "\u001b[0;32m<ipython-input-5-ee24746c1b9b>\u001b[0m in \u001b[0;36m<module>\u001b[0;34m()\u001b[0m\n\u001b[0;32m----> 1\u001b[0;31m \u001b[0mprnt\u001b[0m\u001b[0;34m(\u001b[0m\u001b[0;34m\"Hello World\"\u001b[0m\u001b[0;34m)\u001b[0m \u001b[0;31m#menggunakan prnt()\u001b[0m\u001b[0;34m\u001b[0m\u001b[0m\n\u001b[0m",
      "\u001b[0;31mNameError\u001b[0m: name 'prnt' is not defined"
     ]
    }
   ],
   "source": [
    "prnt(\"Hello World\") #menggunakan prnt()"
   ]
  },
  {
   "cell_type": "markdown",
   "metadata": {},
   "source": [
    "**NOTE: perlu diperhatikan, case sensitive juga berlaku untuk function lainnya.**"
   ]
  },
  {
   "cell_type": "markdown",
   "metadata": {},
   "source": [
    "## Komentar pada Python\n",
    "komentar pada python, di tandai menggunakan ```#``` yang artinya kode tersebut tidak dieksekusi atau tidak dijalankan oleh mesin. Komentar hanya digunakan untuk menandai atau memberikan keterangan tertulis pada script.\n",
    "\n",
    "Manfaat dari komentar tersebut, dapat memberikan keterangan mengenai script, code agar orang lain dapat memahami isi dari program anda.\n",
    "\n",
    "Berikut contoh script yang menggunakan komentar pada python"
   ]
  },
  {
   "cell_type": "code",
   "execution_count": 6,
   "metadata": {},
   "outputs": [
    {
     "name": "stdout",
     "output_type": "stream",
     "text": [
      "Hello World\n",
      "Luffy\n",
      "12\n",
      "ini adalah nilai 12\n"
     ]
    }
   ],
   "source": [
    "# ini komentar menggunakan tanda '#' yang tidak dapat dieksekusi\n",
    "#Baris satu (1)\n",
    "#Baris dua  (2)\n",
    "\n",
    "'''\n",
    "Ini adalah komentar yang berisikan penjelasan lebih\n",
    "satu baru yaitu dengan menggunakan tanda petik satu ''\n",
    "'''\n",
    "\n",
    "\"\"\"\n",
    "Ini contoh komentar menggunakan \n",
    "tanda kutip dua \"\"\n",
    "\"\"\"\n",
    "\n",
    "print(\"Hello World\") #output text/string\n",
    "#print('Hello World')\n",
    "\n",
    "# Menggunakan Spesial karakter !@#$%^&*(),./;'[]\\ pada komentar\n",
    "\n",
    "#mencetak nama anda\n",
    "print(\"Luffy\")\n",
    "\n",
    "#mencetak angka, nilai\n",
    "print(12)\n",
    "print(\"ini adalah nilai 12\") #sebagai string"
   ]
  },
  {
   "cell_type": "markdown",
   "metadata": {},
   "source": [
    "ketika menjalankan script di atas, dapat dilihat output dari program ```Hello World``` ```Luffy``` ```12``` ```ini adalah nilai 12``` dan komentar tidak dieksekusi"
   ]
  },
  {
   "cell_type": "markdown",
   "metadata": {},
   "source": [
    "## Latihan\n",
    "**Catatan:** gunakan **python versi 3.x** atau di atas nya\n",
    "1. Jalankan program tersebut di komputer anda, menggunakan pycharm, jupter-notebook, ataupun jupyterlab\n",
    "2. Buatlah program menggunakan ```print()``` seperti output dibawah **catatan:** ubahlah dengan menampilkan informasi atau biodata anda masing - masing, dengan menampilkan serta berikan komentar disetiap baris pada script anda.\n",
    "```\n",
    "Praktikum algoritma dan pemrograman\n",
    "Nama : Warsito\n",
    "NIM : 100103074\n",
    "Angkatan : 2013\n",
    "Jurusan : Teknik Informatika\n",
    "Fakultas Ilmu Komputer\n",
    "Universitas Duta Bangsa Surakarta\n",
    "```\n",
    "\n",
    "3. Jalankan script dibawah ini, kemudian berikan penjelasan pada script maupun output nya, jika terjadi error, silahkan anda perbaiki\n",
    "```\n",
    "print(\"Ini Budi\") #mencetak penjelasan Budi\n",
    "print('Budi bersekolah di SDN 1 MariJoa) #sekolah Budi\n",
    "prnt(\"Cita - cita ingin menjadi seorang Pilot\") #cita-cita budi\n",
    "```"
   ]
  }
 ],
 "metadata": {
  "kernelspec": {
   "display_name": "Python 3",
   "language": "python",
   "name": "python3"
  },
  "language_info": {
   "codemirror_mode": {
    "name": "ipython",
    "version": 3
   },
   "file_extension": ".py",
   "mimetype": "text/x-python",
   "name": "python",
   "nbconvert_exporter": "python",
   "pygments_lexer": "ipython3",
   "version": "3.8.8"
  }
 },
 "nbformat": 4,
 "nbformat_minor": 2
}
