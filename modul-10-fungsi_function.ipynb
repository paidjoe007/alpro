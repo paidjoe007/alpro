{
 "cells": [
  {
   "cell_type": "markdown",
   "metadata": {},
   "source": [
    "# Praktikum 10 - Fungsi\n",
    "## Tujuan & Manfaat\n",
    "Pada praktikum 10 - Fungsi, mahasiswa diharapkan:\n",
    "   1. Mahasiswa mengerti syntax operator pada python\n",
    "   2. Mahasiswa dapat menjalankan program python menggunakan IDE, maupun di command prompt atau terminal\n",
    "   3. Mahasiswa mengerti konsep dari Fungsi pada python\n",
    "   4. Mahasiswa dapat menerapkan dalam program"
   ]
  },
  {
   "cell_type": "markdown",
   "metadata": {},
   "source": [
    "Fungsi adalah blok kode terorganisir dan dapat digunakan kembali yang digunakan untuk melakukan sebuah tindakan/action. Fungsi memberikan modularitas yang lebih baik untuk aplikasi Anda dan tingkat penggunaan kode yang tinggi.\n",
    "\n",
    "### Mendefinisikan Fungsi Python\n",
    "\n",
    "Anda dapat menentukan fungsi untuk menyediakan fungsionalitas yang dibutuhkan. Berikut adalah aturan sederhana untuk mendefinisikan fungsi dengan Python.\n",
    "\n",
    "- Fungsi blok dimulai dengan def kata kunci diikuti oleh nama fungsi dan tanda kurung (()).\n",
    "- Setiap parameter masukan atau argumen harus ditempatkan di dalam tanda kurung ini. Anda juga dapat menentukan parameter di dalam tanda kurung ini.\n",
    "- Pernyataan pertama dari sebuah fungsi dapat berupa pernyataan opsional - string dokumentasi fungsi atau docstring.\n",
    "- Blok kode dalam setiap fungsi dimulai dengan titik dua (:) dan indentasi.\n",
    "- Pernyataan kembali [ekspresi] keluar dari sebuah fungsi, secara opsional menyampaikan kembali ekspresi ke pemanggil. Pernyataan pengembalian tanpa argumen sama dengan return None.\n",
    "\n",
    "Contoh fungsi"
   ]
  },
  {
   "cell_type": "code",
   "execution_count": 1,
   "metadata": {},
   "outputs": [
    {
     "name": "stdout",
     "output_type": "stream",
     "text": [
      "hello world\n"
     ]
    }
   ],
   "source": [
    "#contoh 1\n",
    "def printme(str):\n",
    "   \"This prints a passed string into this function\"\n",
    "   print (str)\n",
    "   return\n",
    "printme(\"hello world\")"
   ]
  },
  {
   "cell_type": "code",
   "execution_count": 2,
   "metadata": {},
   "outputs": [
    {
     "name": "stdout",
     "output_type": "stream",
     "text": [
      "jumlah:  21\n"
     ]
    }
   ],
   "source": [
    "#contoh 2 penjumlahan sebuah barisan angka\n",
    "def jumlah(angka):\n",
    "    total = 0\n",
    "    for x in angka:\n",
    "        total += x\n",
    "    return total\n",
    "\n",
    "print(\"jumlah: \",jumlah((8,3,1,4,5)))"
   ]
  },
  {
   "cell_type": "code",
   "execution_count": 3,
   "metadata": {},
   "outputs": [
    {
     "name": "stdout",
     "output_type": "stream",
     "text": [
      "ganjil\n"
     ]
    }
   ],
   "source": [
    "#contoh 3 pengecekan angka apakah ganjil atau genap?\n",
    "def cek_ganjil_genap(angka):\n",
    "    if angka%2==0:\n",
    "        print(\"genap\")\n",
    "    else:\n",
    "        print(\"ganjil\")\n",
    "    return\n",
    "\n",
    "cek_ganjil_genap(5) #input angka, misalkan 5"
   ]
  },
  {
   "cell_type": "code",
   "execution_count": 4,
   "metadata": {},
   "outputs": [
    {
     "data": {
      "text/plain": [
       "2.0"
      ]
     },
     "execution_count": 4,
     "metadata": {},
     "output_type": "execute_result"
    }
   ],
   "source": [
    "#contoh 4 perhitungan rata - rata\n",
    "def rata_rata(a,b,c):\n",
    "    return (a+b+c)/3\n",
    "rata_rata(1,2,3)"
   ]
  },
  {
   "cell_type": "code",
   "execution_count": 5,
   "metadata": {},
   "outputs": [
    {
     "name": "stdout",
     "output_type": "stream",
     "text": [
      "3\n",
      "-1\n",
      "2\n",
      "0.5\n"
     ]
    }
   ],
   "source": [
    "#contoh 5 perhitungan sederhana matematika\n",
    "def kalkulator(angka1,angka2):\n",
    "    print(angka1+angka2)\n",
    "    print(angka1-angka2)\n",
    "    print(angka1*angka2)\n",
    "    print(angka1/angka2)    \n",
    "    \n",
    "kalkulator(1,2) #inputan 2 angka, angka1:1, dan angka2:2"
   ]
  },
  {
   "cell_type": "markdown",
   "metadata": {},
   "source": [
    "## Latihan\n",
    "**Catatan:** gunakan **python versi 3.x** atau di atas nya\n",
    "1. Jalankan program di atas di komputer anda, menggunakan pycharm, jupyter-notebook, jupyter-lab atau google colab\n",
    "2. Buatlah program menggunakan **function (fungsi)** dengan skenario sebagai berikut:\n",
    "\n",
    "    a. Program menampilkan nilai faktorial dari angka yang di input, seperti pada contoh di bawah berikut: \n",
    "    [![asciicast](https://asciinema.org/a/m6PQJg9TCwBbaRi9SoO7Pcisi.svg)](https://asciinema.org/a/m6PQJg9TCwBbaRi9SoO7Pcisi)\n",
    "    \n",
    "    misalkan input 3, maka hasil jika diuraikan sepert: `1x2x3` = `6`\n",
    "    \n",
    "    b. Program menampilkan karakter dari string upper case dan lower case pada sebuah string, untuk output diperlihatkan di bawah:\n",
    "    ![gambar-10a](img/10a.png)\n",
    "    \n",
    "    c. Program yang menampilkan segitiga pascal dari input angka, untuk outputnya dapat di lihat di video berikut:\n",
    "    [![asciicast](https://asciinema.org/a/EOjBFpPM4x1wmNIowDIoFXJRc.svg)](https://asciinema.org/a/EOjBFpPM4x1wmNIowDIoFXJRc)\n",
    "    \n",
    "    d. Program yang menampilkan list angka yang di kali-kan dengan angka itu sendiri, untuk outputnya dapat di lihat di video berikut:\n",
    "    [![asciicast](https://asciinema.org/a/J2BJDzqDD7ggAnCqKeoNwfRWD.svg)](https://asciinema.org/a/J2BJDzqDD7ggAnCqKeoNwfRWD)"
   ]
  },

 "metadata": {
  "kernelspec": {
   "display_name": "Python 3",
   "language": "python",
   "name": "python3"
  },
  "language_info": {
   "codemirror_mode": {
    "name": "ipython",
    "version": 3
   },
   "file_extension": ".py",
   "mimetype": "text/x-python",
   "name": "python",
   "nbconvert_exporter": "python",
   "pygments_lexer": "ipython3",
   "version": "3.7.7"
  }
 },
 "nbformat": 4,
 "nbformat_minor": 2
}
