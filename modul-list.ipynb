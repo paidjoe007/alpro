{
 "cells": [
  {
   "cell_type": "markdown",
   "metadata": {},
   "source": [
    "# Praktikum  - List\n",
    "## Tujuan & Manfaat\n",
    "Pada praktikum - List, mahasiswa diharapkan:\n",
    "   1. Mahasiswa mengerti syntax operator pada python\n",
    "   2. Mahasiswa dapat menjalankan program python menggunakan IDE, maupun di command prompt atau terminal\n",
    "   3. Mahasiswa mengerti konsep setiap list\n",
    "   4. Mahasiswa dapat menerapkan dalam program"
   ]
  },
  {
   "cell_type": "markdown",
   "metadata": {},
   "source": [
    "Dalam bahasa pemrograman Python, struktur data yang paling dasar adalah urutan atau lists. Setiap elemen-elemen berurutan akan diberi nomor posisi atau indeksnya. Indeks pertama dalam list adalah nol, indeks kedua adalah satu dan seterusnya.\n",
    "\n",
    "Python memiliki enam jenis urutan built-in, namun yang paling umum adalah list dan tuple. Ada beberapa hal yang dapat Anda lakukan dengan semua jenis list. Operasi ini meliputi pengindeksan, pengiris, penambahan, perbanyak, dan pengecekan keanggotaan. Selain itu, Python memiliki fungsi built-in untuk menemukan panjang list dan untuk menemukan elemen terbesar dan terkecilnya.\n",
    "\n",
    "### Membuat List Python\n",
    "\n",
    "List adalah tipe data yang paling serbaguna yang tersedia dalam bahasa Python, yang dapat ditulis sebagai daftar nilai yang dipisahkan koma (item) antara tanda kurung siku. Hal penting tentang daftar adalah item dalam list tidak boleh sama jenisnya.\n",
    "\n",
    "Membuat list sangat sederhana, tinggal memasukkan berbagai nilai yang dipisahkan koma di antara tanda kurung siku. Dibawah ini adalah contoh sederhana pembuatan list dalam bahasa Python."
   ]
  },
  {
   "cell_type": "code",
   "execution_count": 1,
   "metadata": {},
   "outputs": [
    {
     "name": "stdout",
     "output_type": "stream",
     "text": [
      "['sistem komputer', 'teknik informatika', 2008, 2020]\n",
      "[1, 2, 3, 4, 5]\n",
      "['a', 'b', 'c', 'd']\n"
     ]
    }
   ],
   "source": [
    "#Contoh sederhana pembuatan list pada bahasa pemrograman python\n",
    "list1 = ['sistem komputer', 'teknik informatika', 2008, 2020]\n",
    "list2 = [1, 2, 3, 4, 5 ]\n",
    "list3 = [\"a\", \"b\", \"c\", \"d\"]\n",
    "print(list1)\n",
    "print(list2)\n",
    "print(list3)"
   ]
  },
  {
   "cell_type": "markdown",
   "metadata": {},
   "source": [
    "### Akses Nilai Dalam List Python\n",
    "\n",
    "Untuk mengakses nilai dalam list python, gunakan tanda kurung siku untuk mengiris beserta indeks atau indeks untuk mendapatkan nilai yang tersedia pada indeks tersebut.\n",
    "\n",
    "Berikut adalah contoh cara mengakses nilai di dalam list python :"
   ]
  },
  {
   "cell_type": "code",
   "execution_count": 2,
   "metadata": {},
   "outputs": [
    {
     "name": "stdout",
     "output_type": "stream",
     "text": [
      "list1[0]:  sistem komputer\n",
      "list2[1:5]:  [2, 3, 4, 5]\n"
     ]
    }
   ],
   "source": [
    "#Cara mengakses nilai di dalam list Python\n",
    "\n",
    "list1 = ['sistem komputer', 'teknik informatika', 2008, 2020]\n",
    "list2 = [1, 2, 3, 4, 5, 6, 7 ]\n",
    "\n",
    "print (\"list1[0]: \", list1[0])\n",
    "print (\"list2[1:5]: \", list2[1:5])"
   ]
  },
  {
   "cell_type": "markdown",
   "metadata": {},
   "source": [
    "### Update Nilai Dalam List Python\n",
    "\n",
    "Anda dapat memperbarui satu atau beberapa nilai di dalam list dengan memberikan potongan di sisi kiri operator penugasan, dan Anda dapat menambahkan nilai ke dalam list dengan metode append (). Sebagai contoh :"
   ]
  },
  {
   "cell_type": "code",
   "execution_count": 3,
   "metadata": {},
   "outputs": [
    {
     "name": "stdout",
     "output_type": "stream",
     "text": [
      "Nilai ada pada index 2 :  2008\n",
      "Nilai baru ada pada index 2 :  2001\n"
     ]
    }
   ],
   "source": [
    "list = ['sistem komputer', 'teknik informatika', 2008, 2020]\n",
    "print (\"Nilai ada pada index 2 : \", list[2])\n",
    "\n",
    "list[2] = 2001\n",
    "print (\"Nilai baru ada pada index 2 : \", list[2])"
   ]
  },
  {
   "cell_type": "markdown",
   "metadata": {},
   "source": [
    "### Hapus Nilai Dalam List Python\n",
    "\n",
    "Untuk menghapus nilai di dalam list python, Anda dapat menggunakan salah satu pernyataan del jika Anda tahu persis elemen yang Anda hapus. Anda dapat menggunakan metode remove() jika Anda tidak tahu persis item mana yang akan dihapus. Sebagai contoh :"
   ]
  },
  {
   "cell_type": "code",
   "execution_count": 4,
   "metadata": {},
   "outputs": [
    {
     "name": "stdout",
     "output_type": "stream",
     "text": [
      "['sistem komputer', 'teknik informatika', 2008, 2020]\n",
      "Setelah dihapus nilai pada index 2 :  ['sistem komputer', 'teknik informatika', 2020]\n"
     ]
    }
   ],
   "source": [
    "#Contoh cara menghapus nilai pada list python\n",
    "\n",
    "list = ['sistem komputer', 'teknik informatika', 2008, 2020]\n",
    "\n",
    "print (list)\n",
    "del list[2]\n",
    "print (\"Setelah dihapus nilai pada index 2 : \", list)"
   ]
  },
  {
   "cell_type": "markdown",
   "metadata": {},
   "source": [
    "### Operasi Dasar Pada List Python\n",
    "\n",
    "List Python merespons operator + dan * seperti string; Itu artinya penggabungan dan pengulangan di sini juga berlaku, kecuali hasilnya adalah list baru, bukan sebuah String.\n",
    "\n",
    "Sebenarnya, list merespons semua operasi urutan umum yang kami gunakan pada String di bab sebelumnya. Dibawah ini adalah tabel daftar operasi dasar pada list python.\n",
    "\n",
    "| Python Expression\t| Hasil\t\t| Penjelasan\t| \n",
    "| --- | --- | --- |\n",
    "| `len([1, 2, 3, 4])`\t\t| `4`\t| Length\t| \n",
    "| `[1, 2, 3] + [4, 5, 6]`\t| \t`[1, 2, 3, 4, 5, 6]`\t| \tConcatenation\t| \n",
    "| `['Halo!'] * 4`\t\t| `['Halo!', 'Halo!', 'Halo!', 'Halo!']`\t| \tRepetition\t| \n",
    "| `2 in [1, 2, 3]`\t| `\tTrue`\t| \tMembership\t| \n",
    "| `for x in [1,2,3] : print (x,end = ' ')`\t| \t`1 2 3`\t\t| Iteration\t| \n",
    "\n",
    "### Indexing, Slicing dan Matrix Pada List Python\n",
    "\n",
    "Karena list adalah urutan, pengindeksan dan pengiris bekerja dengan cara yang sama untuk list seperti yang mereka lakukan untuk String.\n",
    "\n",
    "Dengan asumsi input berikut :\n",
    "\n",
    "`L = ['C++'', 'Java', 'Python']`\n",
    "\n",
    " | Python Expression | \tHasil | \tPenjelasan | \n",
    " | --- | --- | --- | \n",
    " | `L[2]`\t | `'Python'` | \tOffset mulai dari nol | \n",
    " | `L[-2]` | \t`'Java'` | \tNegatif: hitung dari kanan | \n",
    " | `[1:]`\t | `['Java', 'Python']` | \tSlicing mengambil bagian | \n",
    " \n",
    "### Method dan Fungsi Build-in Pada List Python\n",
    "\n",
    "Python menyertakan fungsi built-in sebagai berikut :\n",
    "\n",
    "| Python Function | \tPenjelasan | \n",
    "| --- | --- |\n",
    "| cmp(list1, list2)\t# |  Tidak lagi tersedia dengan Python 3 | \n",
    "| len(list)\t | Memberikan total panjang list. | \n",
    "| max(list)\t | Mengembalikan item dari list dengan nilai maks. | \n",
    "| min(list)\t | Mengembalikan item dari list dengan nilai min. | \n",
    "| list(seq)\t | Mengubah tuple menjadi list. | \n",
    "\n",
    "Python menyertakan methods built-in sebagai berikut\n",
    "\n",
    " | Python Methods | \tPenjelasan | \n",
    " | --- | --- | \n",
    " | list.append(obj)\t | Menambahkan objek obj ke list | \n",
    " | list.count(obj) | \tJumlah pengembalian berapa kali obj terjadi dalam list | \n",
    " | list.extend(seq) | \tTambahkan isi seq ke list | \n",
    " | list.index(obj) | \tMengembalikan indeks terendah dalam list yang muncul obj | \n",
    " | list.insert(index, obj)\t | Sisipkan objek obj ke dalam list di indeks offset | \n",
    " | list.pop(obj = list[-1])\t | Menghapus dan mengembalikan objek atau obj terakhir dari list | \n",
    " | list.remove(obj) | \tRemoves object obj from list | \n",
    " | list.reverse() | \tMembalik list objek di tempat | \n",
    " | list.sort([func])\t | Urutkan objek list, gunakan compare func jika diberikan | \n",
    "\n"
   ]
  },
  {
   "cell_type": "code",
   "execution_count": 9,
   "metadata": {},
   "outputs": [
    {
     "name": "stdout",
     "output_type": "stream",
     "text": [
      "list angka  [-1, 2, 53, 5, 50, 153, 91, 87]\n",
      "angka genap pada list tersebut:  [2, 50]\n",
      "\n",
      "list angka  [-1, 2, 53, 5, 50, 153, 91, 87]\n",
      "angka ganjil pada list tersebut:  [-1, 53, 5, 153, 91, 87]\n"
     ]
    }
   ],
   "source": [
    "#program contoh yang memanfaatkan list\n",
    "num = [-1, 2, 53, 5, 50, 153, 91,87]\n",
    "genap = [x for x in num if x%2==0]\n",
    "print(\"list angka \",num)\n",
    "print(\"angka genap pada list tersebut: \",genap)\n",
    "\n",
    "#program contoh yang memanfaatkan list\n",
    "num = [-1, 2, 53, 5, 50, 153, 91,87]\n",
    "ganjil = [x for x in num if x%2!=0]\n",
    "print(\"\\nlist angka \",num)\n",
    "print(\"angka ganjil pada list tersebut: \",ganjil)"
   ]
  },
  {
   "cell_type": "code",
   "execution_count": 12,
   "metadata": {},
   "outputs": [
    {
     "name": "stdout",
     "output_type": "stream",
     "text": [
      "ganteng\n"
     ]
    }
   ],
   "source": [
    "s = ['g', 'a', 'n', 't', 'e', 'n', 'g'] #list\n",
    "str1 = ''.join(s) #menggabungkan list\n",
    "print(str1) #menampilkan str1"
   ]
  },
  {
   "cell_type": "markdown",
   "metadata": {},
   "source": [
    "## Latihan\n",
    "**Catatan:** gunakan **python versi 3.x** atau di atas nya\n",
    "1. Jalankan program di atas di komputer anda, menggunakan pycharm, jupyter-notebook, jupyter-lab atau google colab\n",
    "2. Buatlah program menggunakan list, dan materi sebelumnya dengan skenario sebagai berikut:\n",
    "\n",
    "    a. Program yang menampilkan nilai maksimum dari sebuah list, untuk keluarannya dapat di lihat pada gambar di bawah:\n",
    "    ![modul-8](img/8a.png)\n",
    "    \n",
    "    b. Program yang menampilkan nilai minimum dari sebuah list, untuk keluarannya dapat di lihat pada gambar di bawah:\n",
    "    ![modul-8](img/8b.png)\n",
    "    \n",
    "    c. Program yang menampilkan kata yang tidak boleh lebih dari 4 huruf, untuk keluarannya dapat di lihat pada gambar di bawah:\n",
    "    ![modul-8](img/8c.png)\n",
    "    \n",
    "    d. Program yang menampilkan sebuah anggota baru di antara setiap anggota list, untuk keluarannya dapat di lihat pada gambar di bawah:\n",
    "    ![modul-8](img/8d.png) "
   ]
  },
  {
   "cell_type": "markdown",
   "metadata": {},
   "source": [
    "### Tugas Praktikum\n",
    "1. Upload file  praktikum kalian ke google form dengan format nama file **nim_nama_kelas.ipynb** -> ke link : https://forms.gle/AGDT8VsLybje73JH8\n"
   ]
  }
 ],
 "metadata": {
  "kernelspec": {
   "display_name": "Python 3",
   "language": "python",
   "name": "python3"
  },
  "language_info": {
   "codemirror_mode": {
    "name": "ipython",
    "version": 3
   },
   "file_extension": ".py",
   "mimetype": "text/x-python",
   "name": "python",
   "nbconvert_exporter": "python",
   "pygments_lexer": "ipython3",
   "version": "3.8.8"
  }
 },
 "nbformat": 4,
 "nbformat_minor": 2
}
